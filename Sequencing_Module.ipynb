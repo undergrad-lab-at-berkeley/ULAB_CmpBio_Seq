{
  "nbformat": 4,
  "nbformat_minor": 0,
  "metadata": {
    "colab": {
      "name": "Sequencing_Module.ipynb",
      "provenance": [],
      "collapsed_sections": [],
      "toc_visible": true
    },
    "kernelspec": {
      "name": "python3",
      "display_name": "Python 3"
    },
    "language_info": {
      "name": "python"
    }
  },
  "cells": [
    {
      "cell_type": "markdown",
      "metadata": {
        "id": "Tw0WH81zUHCD"
      },
      "source": [
        "## Introduction ##\n",
        "Welcome to the sequencing technologies module! In lecture this week, we talked about some of the most common sequencing methods (e.g. Sanger, Illumina) and the steps you may need to take to process or cleanup sequencing data. \n",
        "\n",
        "In this module, we'll be exploring a sample FASTQ file and conducting some basic analyses. Our goal is to get the gene count from a file containing sequencing data."
      ]
    },
    {
      "cell_type": "markdown",
      "metadata": {
        "id": "23FvwVKGV3nF"
      },
      "source": [
        "## Setup ##\n",
        "We'll need [Biopython](https://biopython.org), a set of computational biology and bioinformatics tools for Python. Biopython includes handy tools for sequence alignment, structural biology analyses, and more. If you want Biopython on your local machine and you already have Python installed, try running `pip install biopython`. \n",
        "\n",
        "Run the cell below to install Biopython in the notebook."
      ]
    },
    {
      "cell_type": "code",
      "metadata": {
        "id": "XPgdvvebTqrl",
        "colab": {
          "base_uri": "https://localhost:8080/"
        },
        "outputId": "69e40f79-2672-41da-8e64-d492b221ba8e"
      },
      "source": [
        "try:\n",
        "    import google.colab\n",
        "    # install Biopython first\n",
        "    !pip install biopython\n",
        "    #import some other handy data analysis tools\n",
        "    import pandas as pd\n",
        "    import numpy as np\n",
        "    import matplotlib.pyplot as plt\n",
        "except ImportError:\n",
        "    pass"
      ],
      "execution_count": null,
      "outputs": [
        {
          "output_type": "stream",
          "text": [
            "Collecting biopython\n",
            "\u001b[?25l  Downloading https://files.pythonhosted.org/packages/3a/cd/0098eaff841850c01da928c7f509b72fd3e1f51d77b772e24de9e2312471/biopython-1.78-cp37-cp37m-manylinux1_x86_64.whl (2.3MB)\n",
            "\u001b[K     |████████████████████████████████| 2.3MB 9.6MB/s \n",
            "\u001b[?25hRequirement already satisfied: numpy in /usr/local/lib/python3.7/dist-packages (from biopython) (1.19.5)\n",
            "Installing collected packages: biopython\n",
            "Successfully installed biopython-1.78\n"
          ],
          "name": "stdout"
        }
      ]
    },
    {
      "cell_type": "markdown",
      "metadata": {
        "id": "Ljdyy0uhWWBB"
      },
      "source": [
        "## Part 1: Sequencing Data - FASTQ Files ##\n",
        "As mentioned in lecture, FASTQ files are a file format used to store sequences data and PHRED quality scores. We've provided a sample FASTQ file called `s_cere_reads.fastq` (RNA-seq reads from the yeast *S. cerevisiae*). Let's look at the first record, which stores data for one read. As a reminder, this is what the lines in a FASTQ file mean: ![image](file path to image)\n"
      ]
    },
    {
      "cell_type": "code",
      "metadata": {
        "colab": {
          "base_uri": "https://localhost:8080/"
        },
        "id": "SzovSSzZ3CeE",
        "outputId": "2fef31e6-cf88-47f0-bc51-784962ab004d"
      },
      "source": [
        "with open('s_cere_reads.fastq', 'r') as f:\n",
        "  for i in range(4):\n",
        "    print(f.readline())"
      ],
      "execution_count": null,
      "outputs": [
        {
          "output_type": "stream",
          "text": [
            "@SRR11452750.21.1 21 length=51\n",
            "\n",
            "CCGAAGCGCCATCTAGATGAATACGTGAGGCCCATTGGAGGCTCCTTGAGA\n",
            "\n",
            "+SRR11452750.21.1 21 length=51\n",
            "\n",
            "BBBBBFFFFFFFFFFFFFFFBFFFFFFFFFFFFFFFFFFFFFFFFFFFFFF\n",
            "\n"
          ],
          "name": "stdout"
        }
      ]
    },
    {
      "cell_type": "markdown",
      "metadata": {
        "id": "-PgdyXO_0R3V"
      },
      "source": [
        "Now, we're curious how many records are in this file. \n",
        "\n",
        "`SeqIO.parse()` returns an iterator of `SeqRecord` objects. Biopython uses an iterator instead of an array or set when reading files due to potentially large file sizes. FASTQ and FASTA files can go up to the GB range! Luckily, our FASTQ file isn't huge and we can safely store all the objects in an array.\n",
        "\n",
        "**QUESTION 1**: How many records are in this file? Play with the cell below to find out. \n",
        "\n",
        "Your answer here: ___"
      ]
    },
    {
      "cell_type": "code",
      "metadata": {
        "id": "M-iGY4Pwl1yd"
      },
      "source": [
        "from Bio import SeqIO\n",
        "from Bio import AlignIO\n",
        "from google.colab import files\n",
        "\n",
        "records = []\n",
        "records_iter = SeqIO.parse('s_cere_reads.fastq', \"fastq\")\n",
        "for record in records_iter:\n",
        "  # Don't change this line! We're adding all elements of the \n",
        "  # iterator into an array we can work with.\n",
        "  records.append(record)\n",
        "#count = #YOUR CODE HERE (*hint* the len() function might be useful!)\n",
        "#print(count) #UNCOMMENT this line when you have your count variable"
      ],
      "execution_count": null,
      "outputs": []
    },
    {
      "cell_type": "markdown",
      "metadata": {
        "id": "yZlezo0ctqUH"
      },
      "source": [
        "Now we have all our records Let's peek at the first element to see what a `SeqRecord` object looks like."
      ]
    },
    {
      "cell_type": "code",
      "metadata": {
        "id": "5QhxHEJwT_pF",
        "colab": {
          "base_uri": "https://localhost:8080/"
        },
        "outputId": "e5d48165-7905-46b8-8c61-d0e51f46f25e"
      },
      "source": [
        "rec_0 = records[0]\n",
        "print(rec_0)"
      ],
      "execution_count": null,
      "outputs": [
        {
          "output_type": "stream",
          "text": [
            "ID: SRR11452750.21.1\n",
            "Name: SRR11452750.21.1\n",
            "Description: SRR11452750.21.1 21 length=51\n",
            "Number of features: 0\n",
            "Per letter annotation for: phred_quality\n",
            "Seq('CCGAAGCGCCATCTAGATGAATACGTGAGGCCCATTGGAGGCTCCTTGAGA')\n"
          ],
          "name": "stdout"
        }
      ]
    },
    {
      "cell_type": "markdown",
      "metadata": {
        "id": "Xdfx-uf12EES"
      },
      "source": [
        "## Part 2: Quality Control ##\n",
        "One of the first steps after obtaining sequencing data is usually quality control. No sequencing method is perfect, and we want to know if we can be confident in our data.\n",
        "\n",
        "Let's look at the PHRED quality scores of the first record. The PHRED quality scores of a `SeqRecord` object can be accessed with `.letter_annotations[\"phred_quality\"]`."
      ]
    },
    {
      "cell_type": "code",
      "metadata": {
        "colab": {
          "base_uri": "https://localhost:8080/"
        },
        "id": "fCoo0pNy3Sks",
        "outputId": "9787fd67-1f98-4744-eb49-2d2cd51cb258"
      },
      "source": [
        "phred_scores = rec_0.letter_annotations[\"phred_quality\"]\n",
        "print(phred_scores)"
      ],
      "execution_count": null,
      "outputs": [
        {
          "output_type": "stream",
          "text": [
            "[33, 33, 33, 33, 33, 37, 37, 37, 37, 37, 37, 37, 37, 37, 37, 37, 37, 37, 37, 37, 33, 37, 37, 37, 37, 37, 37, 37, 37, 37, 37, 37, 37, 37, 37, 37, 37, 37, 37, 37, 37, 37, 37, 37, 37, 37, 37, 37, 37, 37, 37]\n"
          ],
          "name": "stdout"
        }
      ]
    },
    {
      "cell_type": "markdown",
      "metadata": {
        "id": "ih5wRer23f9w"
      },
      "source": [
        "**QUESTION 2a**: What is the average PHRED quality score of all the bases in `rec_0`? Look back at the table provided in lecture, what is the approximate accuracy of this read data?"
      ]
    },
    {
      "cell_type": "code",
      "metadata": {
        "id": "vtKYGBzP3T9O"
      },
      "source": [
        "\n",
        "mean =  # YOUR CODE HERE\n",
        "print(mean)"
      ],
      "execution_count": null,
      "outputs": []
    },
    {
      "cell_type": "markdown",
      "metadata": {
        "id": "1opVsduR61pI"
      },
      "source": [
        "Q2A Answer Here: "
      ]
    },
    {
      "cell_type": "markdown",
      "metadata": {
        "id": "kX-moTUjxlCR"
      },
      "source": [
        "Getting the average of the data only tells us one part of the story. Now, we will create a histogram of the PHRED scores so we can see a distribution of the data! "
      ]
    },
    {
      "cell_type": "code",
      "metadata": {
        "colab": {
          "base_uri": "https://localhost:8080/",
          "height": 265
        },
        "id": "psSJNYJW0G8o",
        "outputId": "d405e475-d4d4-49f8-c214-e109dbfc8f98"
      },
      "source": [
        "plt.style.use('ggplot')\n",
        "plt.hist(phred_scores, bins=5)\n",
        "plt.show()"
      ],
      "execution_count": null,
      "outputs": [
        {
          "output_type": "display_data",
          "data": {
            "image/png": "[encoded data removed]",
            "text/plain": [
              "<Figure size 432x288 with 1 Axes>"
            ]
          },
          "metadata": {
            "tags": []
          }
        }
      ]
    },
    {
      "cell_type": "markdown",
      "metadata": {
        "id": "5A7Uc0w06Y9c"
      },
      "source": [
        "**QUESTION 2b**: Please describe the distribution here. Is it normal, is it skewed, etc.? Also, describe the range and if you think this data is low quality, medium quality, or high quality and why?"
      ]
    },
    {
      "cell_type": "markdown",
      "metadata": {
        "id": "-J3V1qNb6uD-"
      },
      "source": [
        "Q2B Answer here:"
      ]
    },
    {
      "cell_type": "markdown",
      "metadata": {
        "id": "vXxdHlZG67xC"
      },
      "source": [
        "# Read Trimming"
      ]
    },
    {
      "cell_type": "markdown",
      "metadata": {
        "id": "BKph7UQJ7TNS"
      },
      "source": [
        "As mentioned in lecture, the next step after quality control is to trim the reads that are not up to par with our quality levels. Usually, this consists of reads that have a PHRED score of 20 or below. Since our records do not have a PHRED score of less than 20 as seen from the histogram, we will move on from this step for now. Note that we've just looked at one of the reads; in real applications you'll want to filter all reads."
      ]
    },
    {
      "cell_type": "markdown",
      "metadata": {
        "id": "vmD2OKhj3MGu"
      },
      "source": [
        "**QUESTION 2c**: Write code that loops over all of the records, finds the average PHRED score in each record, and plots the averages as a histogram. What observations can you make about the average PHRED scores? (Note that since you're looping over 25,000 records, your code might take some time to run)"
      ]
    },
    {
      "cell_type": "code",
      "metadata": {
        "id": "3oTBYy_y3ifv"
      },
      "source": [
        "# 1) Loop over all records\n",
        "# 2) Find the average PHRED score in each record\n",
        "# 3) Plot the averages as histogram\n",
        "\n",
        "# Write your code here!\n"
      ],
      "execution_count": null,
      "outputs": []
    },
    {
      "cell_type": "markdown",
      "metadata": {
        "id": "R8_X5QOV3n5x"
      },
      "source": [
        "Q2C Answer here:"
      ]
    },
    {
      "cell_type": "markdown",
      "metadata": {
        "id": "ySLtVoFg7_gR"
      },
      "source": [
        "# Data Exploration"
      ]
    },
    {
      "cell_type": "markdown",
      "metadata": {
        "id": "XBpoDqQY8DFO"
      },
      "source": [
        "Before we move on to alignment, let's convert our fastq file to the FASTA format to analyze and understand the data we're dealing with more."
      ]
    },
    {
      "cell_type": "code",
      "metadata": {
        "colab": {
          "base_uri": "https://localhost:8080/"
        },
        "id": "Bc8Iiq078LMK",
        "outputId": "987e18d1-482e-4a9c-8e7c-0635a1431f75"
      },
      "source": [
        "from Bio import SeqIO\n",
        "with open(\"s_cere_reads.fastq\", \"r\") as input_handle, open(\"s_cere_reads.fasta\", \"w\") as output_handle:\n",
        "    sequences = SeqIO.parse(input_handle, \"fastq\")        \n",
        "    count = SeqIO.write(sequences, output_handle, \"fasta\")        \n",
        "print(\"Converted %i records\" % count)"
      ],
      "execution_count": null,
      "outputs": [
        {
          "output_type": "stream",
          "text": [
            "Converted 25000 records\n"
          ],
          "name": "stdout"
        }
      ]
    },
    {
      "cell_type": "markdown",
      "metadata": {
        "id": "mjNKFNHN87gb"
      },
      "source": [
        "Now that we have our file in FASTA format under the name `s_cere_reads.fasta`, let's explore some basic genome properties of our first read."
      ]
    },
    {
      "cell_type": "code",
      "metadata": {
        "id": "Rm66h3qC9FO0"
      },
      "source": [
        "records_fa = []\n",
        "records_iter_fa = SeqIO.parse('s_cere_reads.fasta', \"fasta\")\n",
        "for record in records_iter_fa:\n",
        "  # Don't change this line! We're adding all elements of the \n",
        "  # iterator into an array we can work with.\n",
        "  records_fa.append(record)"
      ],
      "execution_count": null,
      "outputs": []
    },
    {
      "cell_type": "code",
      "metadata": {
        "colab": {
          "base_uri": "https://localhost:8080/"
        },
        "id": "DOSiydO_9ruf",
        "outputId": "a174b7f7-4403-4fff-a5ea-45b159f70e87"
      },
      "source": [
        "rec_1 = records[0]\n",
        "print(rec_1)"
      ],
      "execution_count": null,
      "outputs": [
        {
          "output_type": "stream",
          "text": [
            "ID: SRR11452750.21.1\n",
            "Name: SRR11452750.21.1\n",
            "Description: SRR11452750.21.1 21 length=51\n",
            "Number of features: 0\n",
            "Per letter annotation for: phred_quality\n",
            "Seq('CCGAAGCGCCATCTAGATGAATACGTGAGGCCCATTGGAGGCTCCTTGAGA')\n"
          ],
          "name": "stdout"
        }
      ]
    },
    {
      "cell_type": "code",
      "metadata": {
        "colab": {
          "base_uri": "https://localhost:8080/"
        },
        "id": "-I0o1k8n91QG",
        "outputId": "cae5b4e7-28e8-41dd-b85c-189725c5724b"
      },
      "source": [
        "print(rec_1.seq)"
      ],
      "execution_count": null,
      "outputs": [
        {
          "output_type": "stream",
          "text": [
            "CCGAAGCGCCATCTAGATGAATACGTGAGGCCCATTGGAGGCTCCTTGAGA\n"
          ],
          "name": "stdout"
        }
      ]
    },
    {
      "cell_type": "code",
      "metadata": {
        "colab": {
          "base_uri": "https://localhost:8080/"
        },
        "id": "ULBPlotT98G-",
        "outputId": "7217eb82-5f32-44b8-cb91-371c6ddd0043"
      },
      "source": [
        "print(\"Sequence length (bp)\", len(rec_1))"
      ],
      "execution_count": null,
      "outputs": [
        {
          "output_type": "stream",
          "text": [
            "Sequence length (bp) 51\n"
          ],
          "name": "stdout"
        }
      ]
    },
    {
      "cell_type": "markdown",
      "metadata": {
        "id": "BeO-a81e-Fsv"
      },
      "source": [
        "As you can see this read has a sequence length of ~50bp which means it is a short read. This means that when aligning, we now know to use an aligner that is best for short-reads. \n",
        "\n",
        "***Note***: For now, we have looked at only 1 read, a more accurate representation would be to create a histogram of sequence length for each read so we can get an idea for the average read length rather than from a single record."
      ]
    },
    {
      "cell_type": "markdown",
      "metadata": {
        "id": "rJ0tLT5l7jjj"
      },
      "source": [
        "## Part 3: Alignment"
      ]
    },
    {
      "cell_type": "markdown",
      "metadata": {
        "id": "rqjoXOco7qlu"
      },
      "source": [
        "Alright, now that we have explored our data and have come to the conclusion that we have a short-read sequencing set, we will move on to aligning our data to a reference genome! As mentioned in lecture, aligning reads is like putting puzzle pieces together according to a reference picture. The other option we could take is to do assembly, however that is much more time-consuming and best used if we do not have a reference genome. \n",
        "\n",
        "Our reference genome will be the `S. cerevisiae` genome. As for our aligner, we will be using `Bowtie2`, as this is very efficient for short-read alignment."
      ]
    },
    {
      "cell_type": "markdown",
      "metadata": {
        "id": "TLhuR2hTCRkV"
      },
      "source": [
        "In order for `Bowtie2` to work, we need to provide it with trimmed reads files and an *index* of the reference genome. We have included this index in the files with this module; you can download indices for other organisms in the sidebar of [Bowtie2's website](http://bowtie-bio.sourceforge.net/bowtie2/index.shtml).\n"
      ]
    },
    {
      "cell_type": "code",
      "metadata": {
        "colab": {
          "base_uri": "https://localhost:8080/"
        },
        "id": "wtABina9Du6o",
        "outputId": "c353dc95-55bb-4b87-af4f-0e59253f8440"
      },
      "source": [
        "# The following line will install Bowtie2 on the datahub computer\n",
        "! sudo apt install bowtie2\n"
      ],
      "execution_count": null,
      "outputs": [
        {
          "output_type": "stream",
          "text": [
            "Reading package lists... Done\n",
            "Building dependency tree       \n",
            "Reading state information... Done\n",
            "Suggested packages:\n",
            "  bowtie2-examples\n",
            "The following NEW packages will be installed:\n",
            "  bowtie2\n",
            "0 upgraded, 1 newly installed, 0 to remove and 30 not upgraded.\n",
            "Need to get 1,174 kB of archives.\n",
            "After this operation, 5,100 kB of additional disk space will be used.\n",
            "Get:1 http://archive.ubuntu.com/ubuntu bionic/universe amd64 bowtie2 amd64 2.3.4.1-1 [1,174 kB]\n",
            "Fetched 1,174 kB in 1s (888 kB/s)\n",
            "debconf: unable to initialize frontend: Dialog\n",
            "debconf: (No usable dialog-like program is installed, so the dialog based frontend cannot be used. at /usr/share/perl5/Debconf/FrontEnd/Dialog.pm line 76, <> line 1.)\n",
            "debconf: falling back to frontend: Readline\n",
            "debconf: unable to initialize frontend: Readline\n",
            "debconf: (This frontend requires a controlling tty.)\n",
            "debconf: falling back to frontend: Teletype\n",
            "dpkg-preconfigure: unable to re-open stdin: \n",
            "Selecting previously unselected package bowtie2.\n",
            "(Reading database ... 160980 files and directories currently installed.)\n",
            "Preparing to unpack .../bowtie2_2.3.4.1-1_amd64.deb ...\n",
            "Unpacking bowtie2 (2.3.4.1-1) ...\n",
            "Setting up bowtie2 (2.3.4.1-1) ...\n",
            "Processing triggers for man-db (2.8.3-2ubuntu0.1) ...\n"
          ],
          "name": "stdout"
        }
      ]
    },
    {
      "cell_type": "code",
      "metadata": {
        "colab": {
          "base_uri": "https://localhost:8080/"
        },
        "id": "EtCaIvLEFTZe",
        "outputId": "6a04a420-4b95-43dc-d595-f6ed606669ec"
      },
      "source": [
        "# The following line runs the Bowtie2 command\n",
        "!bowtie2 -x s_cere/s_cere -U s_cere_reads.fastq -S output.sam"
      ],
      "execution_count": null,
      "outputs": [
        {
          "output_type": "stream",
          "text": [
            "25000 reads; of these:\n",
            "  25000 (100.00%) were unpaired; of these:\n",
            "    645 (2.58%) aligned 0 times\n",
            "    16495 (65.98%) aligned exactly 1 time\n",
            "    7860 (31.44%) aligned >1 times\n",
            "97.42% overall alignment rate\n"
          ],
          "name": "stdout"
        }
      ]
    },
    {
      "cell_type": "markdown",
      "metadata": {
        "id": "S_sCV9_sLemJ"
      },
      "source": [
        "Let's take apart that command piece-by-piece:\n",
        "- First, we used the `!` symbol. This is a Jupyter-specific symbol (i.e. it won't work in regular Python) that allows us to run commands *on the command line*. Bowtie2 is an executable program that's usually run from a command line.\n",
        "- The `-x s_cere/s_cere` portion tells Bowtie2 the location of the *indices* which it uses to align reads. These are in the form of `.bt2` files, which are included in a folder imported with this module.\n",
        "- The `-U s_cere_reads.fastq` portion tells Bowtie2 the location of the FASTQ file we've been using.\n",
        "- The `-S output.sam` portion tells Bowtie2 the name we want to give to the output SAM file. This is a type of file often used to represent alignments.\n",
        "\n",
        "Note also in the output the number of alignments. You should have a high overall alignment rate; unusually low rates may indicate an error, such as low-quality reads or an incorrect index\n",
        "\n",
        "Let's take a look at this SAM file:"
      ]
    },
    {
      "cell_type": "code",
      "metadata": {
        "id": "Ac8oAJt9GR1R",
        "colab": {
          "base_uri": "https://localhost:8080/"
        },
        "outputId": "eb20586a-b1fe-4aba-f6fe-961904f2d401"
      },
      "source": [
        "with open(\"output.sam\", 'r') as f:\n",
        "  for i in range(25):\n",
        "    print(f.readline())"
      ],
      "execution_count": null,
      "outputs": [
        {
          "output_type": "stream",
          "text": [
            "@HD\tVN:1.0\tSO:unsorted\n",
            "\n",
            "@SQ\tSN:I\tLN:230218\n",
            "\n",
            "@SQ\tSN:II\tLN:813184\n",
            "\n",
            "@SQ\tSN:III\tLN:316620\n",
            "\n",
            "@SQ\tSN:IV\tLN:1531933\n",
            "\n",
            "@SQ\tSN:IX\tLN:439888\n",
            "\n",
            "@SQ\tSN:MT\tLN:85779\n",
            "\n",
            "@SQ\tSN:V\tLN:576874\n",
            "\n",
            "@SQ\tSN:VI\tLN:270161\n",
            "\n",
            "@SQ\tSN:VII\tLN:1090940\n",
            "\n",
            "@SQ\tSN:VIII\tLN:562643\n",
            "\n",
            "@SQ\tSN:X\tLN:745751\n",
            "\n",
            "@SQ\tSN:XI\tLN:666816\n",
            "\n",
            "@SQ\tSN:XII\tLN:1078177\n",
            "\n",
            "@SQ\tSN:XIII\tLN:924431\n",
            "\n",
            "@SQ\tSN:XIV\tLN:784333\n",
            "\n",
            "@SQ\tSN:XV\tLN:1091291\n",
            "\n",
            "@SQ\tSN:XVI\tLN:948066\n",
            "\n",
            "@PG\tID:bowtie2\tPN:bowtie2\tVN:2.3.4.1\tCL:\"/usr/bin/bowtie2-align-s --wrapper basic-0 -x s_cere/s_cere -S output.sam -U s_cere_reads.fastq\"\n",
            "\n",
            "SRR11452750.21.1\t16\tXII\t198920\t42\t51M\t*\t0\t0\tTCTCAAGGAGCCTCCAATGGGCCTCACGTATTCATCTAGATGGCGCTTCGG\tFFFFFFFFFFFFFFFFFFFFFFFFFFFFFFBFFFFFFFFFFFFFFFBBBBB\tAS:i:0\tXN:i:0\tXM:i:0\tXO:i:0\tXG:i:0\tNM:i:0\tMD:Z:51\tYT:Z:UU\n",
            "\n",
            "SRR11452750.172.1\t16\tXIII\t71016\t42\t51M\t*\t0\t0\tACGATTCTTCTCCCCTTCTTCCAATATTCCCACGGATCGCATCGCATCGCN\tFFFFFFFFFFFFFFFFFFFFFFFFFFFFFFFFFFFF<FBFFFFFFFBB<<#\tAS:i:-1\tXN:i:0\tXM:i:1\tXO:i:0\tXG:i:0\tNM:i:1\tMD:Z:50C0\tYT:Z:UU\n",
            "\n",
            "SRR11452750.178.1\t16\tVII\t541108\t1\t51M\t*\t0\t0\tCCGACAGTAAATCTACAATCAGTATAATTATATCCAATAATGAAGAGAAAT\tBFFFFFFFFFFFFFB/BFFFFBFFFFF<FFBFFFFFF/FFBFFFFFBBBBB\tAS:i:0\tXS:i:0\tXN:i:0\tXM:i:0\tXO:i:0\tXG:i:0\tNM:i:0\tMD:Z:51\tYT:Z:UU\n",
            "\n",
            "SRR11452750.419.1\t16\tXV\t599028\t1\t51M\t*\t0\t0\tGGTGATATTCAGCATCCTGACACTTACGACTCAGGCATGCAATCCAATACC\tFFFFFFFFFFFFFFFFFFFFFFFFFFFFFFBFFFFFFFFFFFFFFFBBBBB\tAS:i:0\tXS:i:0\tXN:i:0\tXM:i:0\tXO:i:0\tXG:i:0\tNM:i:0\tMD:Z:51\tYT:Z:UU\n",
            "\n",
            "SRR11452750.431.1\t16\tXIII\t226383\t32\t51M\t*\t0\t0\tAGACTTTGTGATGAAATCGCCACTATCCAATCCAAGAGATTGAGAAACAAG\tFFFFFFFFFFFFFFFFFFFFFFFFFFFFFFFFFFFFFFFFFFFFFFBBBBB\tAS:i:0\tXS:i:-10\tXN:i:0\tXM:i:0\tXO:i:0\tXG:i:0\tNM:i:0\tMD:Z:51\tYT:Z:UU\n",
            "\n",
            "SRR11452750.432.1\t16\tII\t224104\t1\t51M\t*\t0\t0\tAGATCCAACAATCCAATGATCTTAACATAGAATCAGACCATGACTTTCAAT\tFFFFFFFFFFFFFFFFFFFFFFFFFFFFFFFFFFFFFFFFFFFFFFBBBBB\tAS:i:0\tXS:i:0\tXN:i:0\tXM:i:0\tXO:i:0\tXG:i:0\tNM:i:0\tMD:Z:51\tYT:Z:UU\n",
            "\n"
          ],
          "name": "stdout"
        }
      ]
    },
    {
      "cell_type": "markdown",
      "metadata": {
        "id": "F_6rZLA6OZK4"
      },
      "source": [
        "We can see that this file starts off with several lines of metadata, followed by a tab-separated table. You may recognize some of the fields of the table from the FASTQ files; to learn more about the SAM format for storing alignments, you can look at the [file specification](http://samtools.github.io/hts-specs/). "
      ]
    },
    {
      "cell_type": "markdown",
      "metadata": {
        "id": "7QAgSjzdywo9"
      },
      "source": [
        "**QUESTION 3**: According to the specification, what do the columns in the table represent? What does the first line in the header mean?"
      ]
    },
    {
      "cell_type": "markdown",
      "metadata": {
        "id": "w6k3d29yy-0-"
      },
      "source": [
        "Q3 Answer here:"
      ]
    },
    {
      "cell_type": "markdown",
      "metadata": {
        "id": "WX4ogt9FzBCj"
      },
      "source": [
        "#Part 4: Gene Counts"
      ]
    },
    {
      "cell_type": "markdown",
      "metadata": {
        "id": "zPs5EBB20V0G"
      },
      "source": [
        "Now that we've produced an alignment, the next step is to count each of the reads mapping to each gene. To do this, we will need two things:\n",
        "1. An alignment, which we have as the SAM file output from Bowtie2.\n",
        "2. A genome annotation file. The most commonly used file type is a GFF file (you may also see a GTF file; these are identical to version 2 of the GFF specification). These files contain information about the start and end position of each gene, as well as other annotations. \n",
        "\n",
        "In our case, we've provided the file `sacCer3.ensGene.gtf` for genome annotations of the *S. cerevisiae* genome, which was downloaded from the [UCSC Genome Browser page](http://hgdownload.soe.ucsc.edu/downloads.html). Let's see what this file looks like:"
      ]
    },
    {
      "cell_type": "code",
      "metadata": {
        "colab": {
          "base_uri": "https://localhost:8080/"
        },
        "id": "R4eiTufa2W0R",
        "outputId": "e0f432cc-f6fd-42cc-d5be-fd13fc5f627d"
      },
      "source": [
        "with open(\"sacCer3.ensGene.gtf\") as f:\n",
        "  for i in range(5):\n",
        "    print(f.readline())"
      ],
      "execution_count": null,
      "outputs": [
        {
          "output_type": "stream",
          "text": [
            "chrIV\tensGene.v101\ttranscript\t1802\t2953\t.\t+\t.\tgene_id \"YDL248W\"; transcript_id \"YDL248W_mRNA\";  gene_name \"YDL248W\";\n",
            "\n",
            "chrIV\tensGene.v101\texon\t1802\t2953\t.\t+\t.\tgene_id \"YDL248W\"; transcript_id \"YDL248W_mRNA\"; exon_number \"1\"; exon_id \"YDL248W_mRNA.1\"; gene_name \"YDL248W\";\n",
            "\n",
            "chrIV\tensGene.v101\tCDS\t1802\t2950\t.\t+\t0\tgene_id \"YDL248W\"; transcript_id \"YDL248W_mRNA\"; exon_number \"1\"; exon_id \"YDL248W_mRNA.1\"; gene_name \"YDL248W\";\n",
            "\n",
            "chrIV\tensGene.v101\tstart_codon\t1802\t1804\t.\t+\t0\tgene_id \"YDL248W\"; transcript_id \"YDL248W_mRNA\"; exon_number \"1\"; exon_id \"YDL248W_mRNA.1\"; gene_name \"YDL248W\";\n",
            "\n",
            "chrIV\tensGene.v101\tstop_codon\t2951\t2953\t.\t+\t0\tgene_id \"YDL248W\"; transcript_id \"YDL248W_mRNA\"; exon_number \"1\"; exon_id \"YDL248W_mRNA.1\"; gene_name \"YDL248W\";\n",
            "\n"
          ],
          "name": "stdout"
        }
      ]
    },
    {
      "cell_type": "markdown",
      "metadata": {
        "id": "c7Yi9GQF2oh2"
      },
      "source": [
        "We can see that we have another tab-delimited table of values."
      ]
    },
    {
      "cell_type": "markdown",
      "metadata": {
        "id": "7iZpk2nv22Uu"
      },
      "source": [
        "**QUESTION 4a**: Look up the GTF file description. What do each of the columns mean? What does the first line of the annotation mean?"
      ]
    },
    {
      "cell_type": "markdown",
      "metadata": {
        "id": "sGj5ZF5v3HVI"
      },
      "source": [
        "Q4a Answer here:"
      ]
    },
    {
      "cell_type": "markdown",
      "metadata": {
        "id": "6xPu4zcb3I91"
      },
      "source": [
        "In order to find gene counts, we'll be using the package `HTSeq`. We can install the package with the line below:"
      ]
    },
    {
      "cell_type": "code",
      "metadata": {
        "colab": {
          "base_uri": "https://localhost:8080/"
        },
        "id": "XRL0I2e13-Ey",
        "outputId": "d818bdfa-24c8-4a77-857d-f75a17b02093"
      },
      "source": [
        "!pip install pysam htseq"
      ],
      "execution_count": null,
      "outputs": [
        {
          "output_type": "stream",
          "text": [
            "Collecting pysam\n",
            "\u001b[?25l  Downloading https://files.pythonhosted.org/packages/20/85/335857b9888f6d9a13b03a8f21b0a6228b180c361631d9d70e7be3e22163/pysam-0.16.0.1-cp37-cp37m-manylinux1_x86_64.whl (9.9MB)\n",
            "\u001b[K     |████████████████████████████████| 9.9MB 7.5MB/s \n",
            "\u001b[?25hCollecting htseq\n",
            "\u001b[?25l  Downloading https://files.pythonhosted.org/packages/59/52/491befbd425ab4c6ac4f53665b69a50e2bbea22460b34b212534879db616/HTSeq-0.13.5-cp37-cp37m-manylinux2010_x86_64.whl (1.3MB)\n",
            "\u001b[K     |████████████████████████████████| 1.3MB 41.4MB/s \n",
            "\u001b[?25hRequirement already satisfied: numpy in /usr/local/lib/python3.7/dist-packages (from htseq) (1.19.5)\n",
            "Installing collected packages: pysam, htseq\n",
            "Successfully installed htseq-0.13.5 pysam-0.16.0.1\n"
          ],
          "name": "stdout"
        }
      ]
    },
    {
      "cell_type": "markdown",
      "metadata": {
        "id": "W1bFaD2f4EWz"
      },
      "source": [
        "`HTSeq` is once again run from the command line; we can run it with our files as follows:"
      ]
    },
    {
      "cell_type": "code",
      "metadata": {
        "colab": {
          "base_uri": "https://localhost:8080/"
        },
        "id": "DNIRj5mR4JWT",
        "outputId": "c86744c6-ab14-4d1a-b057-ee943d7dcc56"
      },
      "source": [
        "!htseq-count output.sam sacCer3.ensGene.gtf > s_cere_counts.tsv"
      ],
      "execution_count": null,
      "outputs": [
        {
          "output_type": "stream",
          "text": [
            "34755 GFF lines processed.\n",
            "25000 alignments  processed.\n"
          ],
          "name": "stdout"
        }
      ]
    },
    {
      "cell_type": "markdown",
      "metadata": {
        "id": "ENq0srsY8DGm"
      },
      "source": [
        "In this command, the program we are running is `htseq-count`. The two arguments are our alignment (`output.sam`) and the annotation (`sacCer3.ensGene.gtf`). We then use a *redirect character* (`>`) to send the output of the command to a file, `s_cere_counts.tsv`.\n",
        "\n",
        "We can view the contents of this TSV file as follows:"
      ]
    },
    {
      "cell_type": "code",
      "metadata": {
        "colab": {
          "base_uri": "https://localhost:8080/"
        },
        "id": "tN113Ekm8aQO",
        "outputId": "a7b3a459-d209-4f27-80a2-80eeefe9af4d"
      },
      "source": [
        "with open(\"s_cere_counts.tsv\") as f:\n",
        "  for i in range(5):\n",
        "    print(f.readline())"
      ],
      "execution_count": null,
      "outputs": [
        {
          "output_type": "stream",
          "text": [
            "ETS1-1\t0\n",
            "\n",
            "ETS1-2\t0\n",
            "\n",
            "ETS2-1\t0\n",
            "\n",
            "ETS2-2\t0\n",
            "\n",
            "HRA1\t0\n",
            "\n"
          ],
          "name": "stdout"
        }
      ]
    },
    {
      "cell_type": "markdown",
      "metadata": {
        "id": "JxaRBQGn9ZWG"
      },
      "source": [
        "This file has two columns: the first is the gene name, and the second is the count for that gene. "
      ]
    },
    {
      "cell_type": "markdown",
      "metadata": {
        "id": "fqPyO6gz9tkg"
      },
      "source": [
        "**QUESTION 4b**: Use pandas to read in the count data (*hint:* remember the pd.read_csv() function) and make a barplot for the genes that have nonzero counts."
      ]
    },
    {
      "cell_type": "code",
      "metadata": {
        "id": "dyilKL7G92EM"
      },
      "source": [
        "# Write your code here"
      ],
      "execution_count": null,
      "outputs": []
    }
  ]
}